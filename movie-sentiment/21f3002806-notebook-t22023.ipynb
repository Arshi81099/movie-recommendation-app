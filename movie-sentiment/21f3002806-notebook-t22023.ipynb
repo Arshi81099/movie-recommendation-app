{
 "cells": [
  {
   "cell_type": "code",
   "execution_count": 106,
   "id": "262c2677",
   "metadata": {
    "execution": {
     "iopub.execute_input": "2023-08-13T13:17:46.442006Z",
     "iopub.status.busy": "2023-08-13T13:17:46.441595Z",
     "iopub.status.idle": "2023-08-13T13:17:48.765036Z",
     "shell.execute_reply": "2023-08-13T13:17:48.763448Z"
    },
    "papermill": {
     "duration": 2.340587,
     "end_time": "2023-08-13T13:17:48.768014",
     "exception": false,
     "start_time": "2023-08-13T13:17:46.427427",
     "status": "completed"
    },
    "tags": []
   },
   "outputs": [],
   "source": [
    "import pandas as pd\n",
    "import numpy as np\n",
    "import regex as re\n",
    "import string\n",
    "from sklearn.base import BaseEstimator, TransformerMixin\n",
    "from sklearn.feature_extraction.text import CountVectorizer, TfidfVectorizer, HashingVectorizer, ENGLISH_STOP_WORDS\n",
    "from sklearn.linear_model import LogisticRegression\n",
    "from imblearn.over_sampling import RandomOverSampler \n",
    "from sklearn.naive_bayes import MultinomialNB\n",
    "from sklearn.metrics import accuracy_score, classification_report, precision_score, recall_score, f1_score\n",
    "from sklearn.pipeline import Pipeline\n",
    "from sklearn.impute import SimpleImputer\n",
    "from sklearn.preprocessing import OneHotEncoder, LabelEncoder, FunctionTransformer, StandardScaler, LabelBinarizer\n",
    "from sklearn.compose import ColumnTransformer\n",
    "from sklearn.decomposition import TruncatedSVD\n",
    "from sklearn.model_selection import cross_val_score, GridSearchCV, train_test_split\n",
    "from sklearn.neighbors import KNeighborsClassifier\n",
    "from sklearn.svm import SVC\n",
    "import matplotlib.pyplot as plt\n",
    "import seaborn as sns \n",
    "from sklearn.ensemble import BaggingClassifier, AdaBoostClassifier\n",
    "from sklearn.pipeline import make_pipeline\n"
   ]
  },
  {
   "cell_type": "markdown",
   "id": "45661514",
   "metadata": {
    "papermill": {
     "duration": 0.011939,
     "end_time": "2023-08-13T13:17:48.793374",
     "exception": false,
     "start_time": "2023-08-13T13:17:48.781435",
     "status": "completed"
    },
    "tags": []
   },
   "source": [
    "# Data Loading:"
   ]
  },
  {
   "cell_type": "code",
   "execution_count": 107,
   "id": "9944bbab",
   "metadata": {
    "execution": {
     "iopub.execute_input": "2023-08-13T13:17:48.819467Z",
     "iopub.status.busy": "2023-08-13T13:17:48.819120Z",
     "iopub.status.idle": "2023-08-13T13:17:50.529042Z",
     "shell.execute_reply": "2023-08-13T13:17:50.527939Z"
    },
    "papermill": {
     "duration": 1.726392,
     "end_time": "2023-08-13T13:17:50.532049",
     "exception": false,
     "start_time": "2023-08-13T13:17:48.805657",
     "status": "completed"
    },
    "tags": []
   },
   "outputs": [],
   "source": [
    "movies_df = pd.read_csv('data/movies.csv')\n",
    "train_df = pd.read_csv('data/train.csv')\n",
    "test_df = pd.read_csv('data/test.csv')"
   ]
  },
  {
   "cell_type": "code",
   "execution_count": 108,
   "id": "b25b764d",
   "metadata": {
    "execution": {
     "iopub.execute_input": "2023-08-13T13:17:51.234284Z",
     "iopub.status.busy": "2023-08-13T13:17:51.233890Z",
     "iopub.status.idle": "2023-08-13T13:17:51.405887Z",
     "shell.execute_reply": "2023-08-13T13:17:51.404653Z"
    },
    "papermill": {
     "duration": 0.192924,
     "end_time": "2023-08-13T13:17:51.408285",
     "exception": false,
     "start_time": "2023-08-13T13:17:51.215361",
     "status": "completed"
    },
    "tags": []
   },
   "outputs": [],
   "source": [
    "movies_df.drop_duplicates(subset='movieid', inplace=True)\n",
    "train_df.drop_duplicates(subset=['movieid', 'reviewerName', 'reviewText'], inplace=True)"
   ]
  },
  {
   "cell_type": "code",
   "execution_count": 109,
   "id": "25c26921",
   "metadata": {
    "execution": {
     "iopub.execute_input": "2023-08-13T13:17:51.436576Z",
     "iopub.status.busy": "2023-08-13T13:17:51.436229Z",
     "iopub.status.idle": "2023-08-13T13:17:51.492491Z",
     "shell.execute_reply": "2023-08-13T13:17:51.491331Z"
    },
    "papermill": {
     "duration": 0.072914,
     "end_time": "2023-08-13T13:17:51.494719",
     "exception": false,
     "start_time": "2023-08-13T13:17:51.421805",
     "status": "completed"
    },
    "tags": []
   },
   "outputs": [],
   "source": [
    "train_df.dropna(subset='reviewText', inplace=True)\n",
    "train_df.reset_index(drop=True, inplace=True)"
   ]
  },
  {
   "cell_type": "code",
   "execution_count": 110,
   "id": "1295b3e7",
   "metadata": {
    "execution": {
     "iopub.execute_input": "2023-08-13T13:17:51.524582Z",
     "iopub.status.busy": "2023-08-13T13:17:51.524193Z",
     "iopub.status.idle": "2023-08-13T13:17:51.528653Z",
     "shell.execute_reply": "2023-08-13T13:17:51.527942Z"
    },
    "papermill": {
     "duration": 0.021091,
     "end_time": "2023-08-13T13:17:51.530511",
     "exception": false,
     "start_time": "2023-08-13T13:17:51.509420",
     "status": "completed"
    },
    "tags": []
   },
   "outputs": [],
   "source": [
    "movies_df.reset_index(drop=True, inplace=True)"
   ]
  },
  {
   "cell_type": "markdown",
   "id": "8eed8a58",
   "metadata": {
    "papermill": {
     "duration": 0.013592,
     "end_time": "2023-08-13T13:17:51.560154",
     "exception": false,
     "start_time": "2023-08-13T13:17:51.546562",
     "status": "completed"
    },
    "tags": []
   },
   "source": [
    "# Merge Metadata:"
   ]
  },
  {
   "cell_type": "code",
   "execution_count": 111,
   "id": "7719b5eb",
   "metadata": {
    "execution": {
     "iopub.execute_input": "2023-08-13T13:17:51.589704Z",
     "iopub.status.busy": "2023-08-13T13:17:51.589073Z",
     "iopub.status.idle": "2023-08-13T13:17:51.913245Z",
     "shell.execute_reply": "2023-08-13T13:17:51.912181Z"
    },
    "papermill": {
     "duration": 0.342351,
     "end_time": "2023-08-13T13:17:51.916287",
     "exception": false,
     "start_time": "2023-08-13T13:17:51.573936",
     "status": "completed"
    },
    "tags": []
   },
   "outputs": [],
   "source": [
    "data = pd.merge(train_df, movies_df, on='movieid', how='left') \n",
    "test_df = pd.merge(test_df, movies_df, on='movieid', how='left')"
   ]
  },
  {
   "cell_type": "code",
   "execution_count": 112,
   "id": "ce0d0f77",
   "metadata": {
    "execution": {
     "iopub.execute_input": "2023-08-13T13:17:51.957168Z",
     "iopub.status.busy": "2023-08-13T13:17:51.956531Z",
     "iopub.status.idle": "2023-08-13T13:17:52.040694Z",
     "shell.execute_reply": "2023-08-13T13:17:52.039482Z"
    },
    "papermill": {
     "duration": 0.106986,
     "end_time": "2023-08-13T13:17:52.043168",
     "exception": false,
     "start_time": "2023-08-13T13:17:51.936182",
     "status": "completed"
    },
    "tags": []
   },
   "outputs": [],
   "source": [
    "tgt = data['sentiment']\n",
    "data = data[[ 'reviewText', 'audienceScore']]"
   ]
  },
  {
   "cell_type": "code",
   "execution_count": 113,
   "id": "ba26be25",
   "metadata": {
    "execution": {
     "iopub.execute_input": "2023-08-13T13:18:24.938158Z",
     "iopub.status.busy": "2023-08-13T13:18:24.937529Z",
     "iopub.status.idle": "2023-08-13T13:18:24.969101Z",
     "shell.execute_reply": "2023-08-13T13:18:24.968293Z"
    },
    "papermill": {
     "duration": 0.054137,
     "end_time": "2023-08-13T13:18:24.971523",
     "exception": false,
     "start_time": "2023-08-13T13:18:24.917386",
     "status": "completed"
    },
    "tags": []
   },
   "outputs": [],
   "source": [
    "test_df = test_df[[ 'reviewText']]"
   ]
  },
  {
   "cell_type": "code",
   "execution_count": 114,
   "id": "d69d1956",
   "metadata": {
    "execution": {
     "iopub.execute_input": "2023-08-13T13:18:25.012740Z",
     "iopub.status.busy": "2023-08-13T13:18:25.012364Z",
     "iopub.status.idle": "2023-08-13T13:18:25.385213Z",
     "shell.execute_reply": "2023-08-13T13:18:25.383881Z"
    },
    "papermill": {
     "duration": 0.396365,
     "end_time": "2023-08-13T13:18:25.387612",
     "exception": false,
     "start_time": "2023-08-13T13:18:24.991247",
     "status": "completed"
    },
    "tags": []
   },
   "outputs": [],
   "source": [
    "lb = LabelBinarizer()\n",
    "tgt = lb.fit_transform(tgt)\n",
    "tgt = tgt.ravel()\n"
   ]
  },
  {
   "cell_type": "code",
   "execution_count": 115,
   "id": "01f27c09",
   "metadata": {
    "execution": {
     "iopub.execute_input": "2023-08-13T13:18:25.427091Z",
     "iopub.status.busy": "2023-08-13T13:18:25.426744Z",
     "iopub.status.idle": "2023-08-13T13:18:25.442765Z",
     "shell.execute_reply": "2023-08-13T13:18:25.441183Z"
    },
    "papermill": {
     "duration": 0.038776,
     "end_time": "2023-08-13T13:18:25.445144",
     "exception": false,
     "start_time": "2023-08-13T13:18:25.406368",
     "status": "completed"
    },
    "tags": []
   },
   "outputs": [],
   "source": [
    "class TextProcessor(BaseEstimator, TransformerMixin):\n",
    "    stop_words = set(ENGLISH_STOP_WORDS)\n",
    "    stop_words.update(['film', 'films', 'movie', 'movies', 'director', 'plot', 'story', 'actor', 'actors', 'cast',\n",
    "                       'scene', 'scenes', 'cinema', 'hollywood', 'script', 'screenplay', 'character', 'charaters', 'role',\n",
    "                       'roles', 'actress', 'actresses', 'genre', 'genres', 'sequel', 'prequel', 'remake', 'remakes', 'original',\n",
    "                       'version', 'versions', 'franchise', 'franchises', 'cinematography', 'cinematographer', 'cinematographers',\n",
    "                       'cinematographic', 'cinematographics', 'cinematic', 'cinematics', 'cinematograph', 'cinematographs', \n",
    "                       'cinematographical', 'cinematographically', 'like', 'just', 'review', 'reviews', 'storyline', 'storylines',\n",
    "                       'story', 'stories', 'plotline', 'dont', 'didnt', 'doesnt', 'cant', 'couldnt', 'wouldnt', 'shouldnt', 'wont',\n",
    "                       'just', 'isnt', 'arent', 'wasnt', 'werent', 'havent', 'hasnt', 'hadnt', 'having', 'got', 'get',\n",
    "                       'gets', 'gotten', 'im', 'ive', 'id', 'ill', 'youre', 'youve', 'youll', 'youd', 'theyre', 'theyve',\n",
    "                       'theyll', 'theyd', 'weve', 'wed', 'were', 'wasnt'\n",
    "                      ])\n",
    "    \n",
    "\n",
    "    process_pattern = re.compile(r\"\\s|[.,?!;:-_]\")\n",
    "    whitespace_pattern = re.compile(r\"\\s+\")\n",
    "    \n",
    "    \n",
    "    def fit(self, X, y=None):\n",
    "        return self\n",
    "    \n",
    "    def transform(self, X: pd.Series, y=None, stem=False):\n",
    "        X = X.copy()\n",
    "        X.fillna(\"\", inplace=True)\n",
    "        X = X.apply(self.process_text)\n",
    "        return X\n",
    "    \n",
    "    def process_text(self, text):\n",
    "        text = text.lower()\n",
    "\n",
    "        words_without_apostrophe = []\n",
    "        for word in text.split():\n",
    "            if \"'\" not in word:\n",
    "                words_without_apostrophe.append(word)\n",
    "        text = \" \".join(words_without_apostrophe)\n",
    "\n",
    "        text_characters = []\n",
    "        for character in text:\n",
    "            if character.isalpha() or character.isspace():\n",
    "                text_characters.append(character)\n",
    "        text = \"\".join(text_characters)\n",
    "\n",
    "        words = []\n",
    "        for word in text.split():\n",
    "            if len(word) > 2 and word not in self.stop_words:\n",
    "                words.append(word)\n",
    "        text = \" \".join(words)\n",
    "\n",
    "        whitespace_removed = []\n",
    "        words = text.split()\n",
    "        for word in words:\n",
    "            if word:\n",
    "                whitespace_removed.append(word)\n",
    "        text = \" \".join(whitespace_removed)\n",
    "\n",
    "        return text\n"
   ]
  },
  {
   "cell_type": "code",
   "execution_count": 116,
   "id": "fb07c3d4",
   "metadata": {
    "execution": {
     "iopub.execute_input": "2023-08-13T13:18:25.583658Z",
     "iopub.status.busy": "2023-08-13T13:18:25.583291Z",
     "iopub.status.idle": "2023-08-13T13:18:25.588788Z",
     "shell.execute_reply": "2023-08-13T13:18:25.587371Z"
    },
    "papermill": {
     "duration": 0.027798,
     "end_time": "2023-08-13T13:18:25.590587",
     "exception": false,
     "start_time": "2023-08-13T13:18:25.562789",
     "status": "completed"
    },
    "tags": []
   },
   "outputs": [],
   "source": [
    "text_pipeline = Pipeline([\n",
    "    ('text_processor', TextProcessor()),         \n",
    "    ('tfidf_vectorizer', TfidfVectorizer(stop_words='english'))\n",
    "])"
   ]
  },
  {
   "cell_type": "code",
   "execution_count": 117,
   "id": "682b3ad6",
   "metadata": {},
   "outputs": [],
   "source": [
    "numeric_pipeline = Pipeline([\n",
    "    ('imputer', SimpleImputer(strategy='median')),\n",
    "    ('scaler', StandardScaler())   \n",
    "])"
   ]
  },
  {
   "cell_type": "code",
   "execution_count": 118,
   "id": "826f3c79",
   "metadata": {
    "execution": {
     "iopub.execute_input": "2023-08-13T13:18:25.812209Z",
     "iopub.status.busy": "2023-08-13T13:18:25.811809Z",
     "iopub.status.idle": "2023-08-13T13:18:25.816697Z",
     "shell.execute_reply": "2023-08-13T13:18:25.816054Z"
    },
    "papermill": {
     "duration": 0.027654,
     "end_time": "2023-08-13T13:18:25.818919",
     "exception": false,
     "start_time": "2023-08-13T13:18:25.791265",
     "status": "completed"
    },
    "tags": []
   },
   "outputs": [],
   "source": [
    "preprocessor = ColumnTransformer([\n",
    "    ('numeric', numeric_pipeline, ['audienceScore']),\n",
    "    ('reviewText', text_pipeline, 'reviewText'),\n",
    "])"
   ]
  },
  {
   "cell_type": "markdown",
   "id": "1f1f3594",
   "metadata": {
    "papermill": {
     "duration": 0.019071,
     "end_time": "2023-08-13T13:18:25.858163",
     "exception": false,
     "start_time": "2023-08-13T13:18:25.839092",
     "status": "completed"
    },
    "tags": []
   },
   "source": [
    "# Feature Engineering:"
   ]
  },
  {
   "cell_type": "code",
   "execution_count": 119,
   "id": "908e3182",
   "metadata": {
    "execution": {
     "iopub.execute_input": "2023-08-13T13:18:25.948508Z",
     "iopub.status.busy": "2023-08-13T13:18:25.948144Z",
     "iopub.status.idle": "2023-08-13T13:18:26.085369Z",
     "shell.execute_reply": "2023-08-13T13:18:26.083955Z"
    },
    "papermill": {
     "duration": 0.160413,
     "end_time": "2023-08-13T13:18:26.088258",
     "exception": false,
     "start_time": "2023-08-13T13:18:25.927845",
     "status": "completed"
    },
    "tags": []
   },
   "outputs": [],
   "source": [
    "X_train, X_test, y_train, y_test = train_test_split(data, tgt, test_size=0.2, shuffle=True, stratify=tgt, random_state=42)"
   ]
  },
  {
   "cell_type": "code",
   "execution_count": 120,
   "id": "d357411d",
   "metadata": {
    "execution": {
     "iopub.execute_input": "2023-08-13T13:18:26.340735Z",
     "iopub.status.busy": "2023-08-13T13:18:26.340057Z",
     "iopub.status.idle": "2023-08-13T13:18:26.379621Z",
     "shell.execute_reply": "2023-08-13T13:18:26.378047Z"
    },
    "papermill": {
     "duration": 0.06253,
     "end_time": "2023-08-13T13:18:26.381843",
     "exception": false,
     "start_time": "2023-08-13T13:18:26.319313",
     "status": "completed"
    },
    "tags": []
   },
   "outputs": [],
   "source": [
    "from sklearn.feature_selection import SelectKBest, SelectPercentile\n",
    "\n",
    "skb = SelectKBest(k=1000)\n",
    "k_percentile = SelectPercentile(percentile=25)"
   ]
  },
  {
   "cell_type": "code",
   "execution_count": 121,
   "id": "040ddf4d",
   "metadata": {
    "execution": {
     "iopub.execute_input": "2023-08-13T13:18:26.421508Z",
     "iopub.status.busy": "2023-08-13T13:18:26.421135Z",
     "iopub.status.idle": "2023-08-13T13:18:55.431183Z",
     "shell.execute_reply": "2023-08-13T13:18:55.429708Z"
    },
    "papermill": {
     "duration": 29.031587,
     "end_time": "2023-08-13T13:18:55.432705",
     "exception": false,
     "start_time": "2023-08-13T13:18:26.401118",
     "status": "completed"
    },
    "tags": []
   },
   "outputs": [
    {
     "name": "stdout",
     "output_type": "stream",
     "text": [
      "Accuracy: 0.81\n"
     ]
    }
   ],
   "source": [
    "from sklearn.feature_selection import SelectFromModel, mutual_info_classif\n",
    "\n",
    "logreg_pipeline = Pipeline([\n",
    "    ('preprocessor', preprocessor),\n",
    "    ('k_percentile', k_percentile),\n",
    "    ('logreg', LogisticRegression(max_iter=100000))\n",
    "])\n",
    "\n",
    "logreg_pipeline.fit(X_train, y_train)\n",
    "\n",
    "accuracy = logreg_pipeline.score(X_test, y_test)\n",
    "print(f\"Accuracy: {accuracy:.2f}\")\n",
    "\n"
   ]
  },
  {
   "cell_type": "markdown",
   "id": "d24a8562",
   "metadata": {
    "papermill": {
     "duration": 0.020067,
     "end_time": "2023-08-13T13:27:12.481394",
     "exception": false,
     "start_time": "2023-08-13T13:27:12.461327",
     "status": "completed"
    },
    "tags": []
   },
   "source": [
    "# CART"
   ]
  },
  {
   "cell_type": "code",
   "execution_count": 122,
   "id": "5b95ac93",
   "metadata": {
    "execution": {
     "iopub.execute_input": "2023-08-13T13:27:12.675697Z",
     "iopub.status.busy": "2023-08-13T13:27:12.674469Z",
     "iopub.status.idle": "2023-08-13T13:27:12.679883Z",
     "shell.execute_reply": "2023-08-13T13:27:12.679173Z"
    },
    "papermill": {
     "duration": 0.02941,
     "end_time": "2023-08-13T13:27:12.682230",
     "exception": false,
     "start_time": "2023-08-13T13:27:12.652820",
     "status": "completed"
    },
    "tags": []
   },
   "outputs": [],
   "source": [
    "# param_grid = {\n",
    "# #     'k_percentile__percentile': [10, 20, 30, 40, 50],\n",
    "# #     'logreg__C': [0.1, 1, 10, 100, 1000],\n",
    "# #     'logreg__penalty': ['l2'],\n",
    "# #     'logreg__solver': ['liblinear', 'lbfgs', 'sag', 'saga', 'newton-cg'],\n",
    "#     'logreg__max_iter': [1000],\n",
    "# #     'k_percentile__percentile': [10],\n",
    "#     'logreg__C': [ 1],\n",
    "#     'logreg__penalty': ['l2'],\n",
    "#     'logreg__solver': ['liblinear'],\n",
    "# }"
   ]
  },
  {
   "cell_type": "code",
   "execution_count": 123,
   "id": "86164210",
   "metadata": {
    "execution": {
     "iopub.execute_input": "2023-08-13T13:27:12.725073Z",
     "iopub.status.busy": "2023-08-13T13:27:12.724731Z",
     "iopub.status.idle": "2023-08-13T13:28:08.362500Z",
     "shell.execute_reply": "2023-08-13T13:28:08.361194Z"
    },
    "papermill": {
     "duration": 55.683797,
     "end_time": "2023-08-13T13:28:08.386647",
     "exception": false,
     "start_time": "2023-08-13T13:27:12.702850",
     "status": "completed"
    },
    "tags": []
   },
   "outputs": [
    {
     "name": "stdout",
     "output_type": "stream",
     "text": [
      "Fitting 5 folds for each of 1 candidates, totalling 5 fits\n",
      "[CV 4/5] END logreg__C=1, logreg__max_iter=1000, logreg__penalty=l2, logreg__solver=liblinear;, score=0.801 total time=   2.8s\n",
      "[CV 1/5] END logreg__C=1, logreg__max_iter=1000, logreg__penalty=l2, logreg__solver=liblinear;, score=0.801 total time=   2.9s\n",
      "[CV 2/5] END logreg__C=1, logreg__max_iter=1000, logreg__penalty=l2, logreg__solver=liblinear;, score=0.801 total time=   2.9s\n",
      "[CV 3/5] END logreg__C=1, logreg__max_iter=1000, logreg__penalty=l2, logreg__solver=liblinear;, score=0.802 total time=   2.9s\n",
      "[CV 5/5] END logreg__C=1, logreg__max_iter=1000, logreg__penalty=l2, logreg__solver=liblinear;, score=0.802 total time=   2.9s\n"
     ]
    },
    {
     "data": {
      "text/html": [
       "<style>#sk-container-id-3 {color: black;background-color: white;}#sk-container-id-3 pre{padding: 0;}#sk-container-id-3 div.sk-toggleable {background-color: white;}#sk-container-id-3 label.sk-toggleable__label {cursor: pointer;display: block;width: 100%;margin-bottom: 0;padding: 0.3em;box-sizing: border-box;text-align: center;}#sk-container-id-3 label.sk-toggleable__label-arrow:before {content: \"▸\";float: left;margin-right: 0.25em;color: #696969;}#sk-container-id-3 label.sk-toggleable__label-arrow:hover:before {color: black;}#sk-container-id-3 div.sk-estimator:hover label.sk-toggleable__label-arrow:before {color: black;}#sk-container-id-3 div.sk-toggleable__content {max-height: 0;max-width: 0;overflow: hidden;text-align: left;background-color: #f0f8ff;}#sk-container-id-3 div.sk-toggleable__content pre {margin: 0.2em;color: black;border-radius: 0.25em;background-color: #f0f8ff;}#sk-container-id-3 input.sk-toggleable__control:checked~div.sk-toggleable__content {max-height: 200px;max-width: 100%;overflow: auto;}#sk-container-id-3 input.sk-toggleable__control:checked~label.sk-toggleable__label-arrow:before {content: \"▾\";}#sk-container-id-3 div.sk-estimator input.sk-toggleable__control:checked~label.sk-toggleable__label {background-color: #d4ebff;}#sk-container-id-3 div.sk-label input.sk-toggleable__control:checked~label.sk-toggleable__label {background-color: #d4ebff;}#sk-container-id-3 input.sk-hidden--visually {border: 0;clip: rect(1px 1px 1px 1px);clip: rect(1px, 1px, 1px, 1px);height: 1px;margin: -1px;overflow: hidden;padding: 0;position: absolute;width: 1px;}#sk-container-id-3 div.sk-estimator {font-family: monospace;background-color: #f0f8ff;border: 1px dotted black;border-radius: 0.25em;box-sizing: border-box;margin-bottom: 0.5em;}#sk-container-id-3 div.sk-estimator:hover {background-color: #d4ebff;}#sk-container-id-3 div.sk-parallel-item::after {content: \"\";width: 100%;border-bottom: 1px solid gray;flex-grow: 1;}#sk-container-id-3 div.sk-label:hover label.sk-toggleable__label {background-color: #d4ebff;}#sk-container-id-3 div.sk-serial::before {content: \"\";position: absolute;border-left: 1px solid gray;box-sizing: border-box;top: 0;bottom: 0;left: 50%;z-index: 0;}#sk-container-id-3 div.sk-serial {display: flex;flex-direction: column;align-items: center;background-color: white;padding-right: 0.2em;padding-left: 0.2em;position: relative;}#sk-container-id-3 div.sk-item {position: relative;z-index: 1;}#sk-container-id-3 div.sk-parallel {display: flex;align-items: stretch;justify-content: center;background-color: white;position: relative;}#sk-container-id-3 div.sk-item::before, #sk-container-id-3 div.sk-parallel-item::before {content: \"\";position: absolute;border-left: 1px solid gray;box-sizing: border-box;top: 0;bottom: 0;left: 50%;z-index: -1;}#sk-container-id-3 div.sk-parallel-item {display: flex;flex-direction: column;z-index: 1;position: relative;background-color: white;}#sk-container-id-3 div.sk-parallel-item:first-child::after {align-self: flex-end;width: 50%;}#sk-container-id-3 div.sk-parallel-item:last-child::after {align-self: flex-start;width: 50%;}#sk-container-id-3 div.sk-parallel-item:only-child::after {width: 0;}#sk-container-id-3 div.sk-dashed-wrapped {border: 1px dashed gray;margin: 0 0.4em 0.5em 0.4em;box-sizing: border-box;padding-bottom: 0.4em;background-color: white;}#sk-container-id-3 div.sk-label label {font-family: monospace;font-weight: bold;display: inline-block;line-height: 1.2em;}#sk-container-id-3 div.sk-label-container {text-align: center;}#sk-container-id-3 div.sk-container {/* jupyter's `normalize.less` sets `[hidden] { display: none; }` but bootstrap.min.css set `[hidden] { display: none !important; }` so we also need the `!important` here to be able to override the default hidden behavior on the sphinx rendered scikit-learn.org. See: https://github.com/scikit-learn/scikit-learn/issues/21755 */display: inline-block !important;position: relative;}#sk-container-id-3 div.sk-text-repr-fallback {display: none;}</style><div id=\"sk-container-id-3\" class=\"sk-top-container\"><div class=\"sk-text-repr-fallback\"><pre>GridSearchCV(cv=5,\n",
       "             estimator=Pipeline(steps=[(&#x27;preprocessor&#x27;,\n",
       "                                        ColumnTransformer(transformers=[(&#x27;numeric&#x27;,\n",
       "                                                                         Pipeline(steps=[(&#x27;imputer&#x27;,\n",
       "                                                                                          SimpleImputer(strategy=&#x27;median&#x27;)),\n",
       "                                                                                         (&#x27;scaler&#x27;,\n",
       "                                                                                          StandardScaler())]),\n",
       "                                                                         [&#x27;audienceScore&#x27;]),\n",
       "                                                                        (&#x27;reviewText&#x27;,\n",
       "                                                                         Pipeline(steps=[(&#x27;text_processor&#x27;,\n",
       "                                                                                          TextProcessor()),\n",
       "                                                                                         (&#x27;tfidf_vectorizer&#x27;,\n",
       "                                                                                          TfidfVectorizer(stop_words=&#x27;english&#x27;))]),\n",
       "                                                                         &#x27;reviewText&#x27;)])),\n",
       "                                       (&#x27;k_percentile&#x27;,\n",
       "                                        SelectPercentile(percentile=25)),\n",
       "                                       (&#x27;logreg&#x27;,\n",
       "                                        LogisticRegression(max_iter=100000))]),\n",
       "             n_jobs=-1,\n",
       "             param_grid={&#x27;logreg__C&#x27;: [1], &#x27;logreg__max_iter&#x27;: [1000],\n",
       "                         &#x27;logreg__penalty&#x27;: [&#x27;l2&#x27;],\n",
       "                         &#x27;logreg__solver&#x27;: [&#x27;liblinear&#x27;]},\n",
       "             scoring=&#x27;accuracy&#x27;, verbose=3)</pre><b>In a Jupyter environment, please rerun this cell to show the HTML representation or trust the notebook. <br />On GitHub, the HTML representation is unable to render, please try loading this page with nbviewer.org.</b></div><div class=\"sk-container\" hidden><div class=\"sk-item sk-dashed-wrapped\"><div class=\"sk-label-container\"><div class=\"sk-label sk-toggleable\"><input class=\"sk-toggleable__control sk-hidden--visually\" id=\"sk-estimator-id-12\" type=\"checkbox\" ><label for=\"sk-estimator-id-12\" class=\"sk-toggleable__label sk-toggleable__label-arrow\">GridSearchCV</label><div class=\"sk-toggleable__content\"><pre>GridSearchCV(cv=5,\n",
       "             estimator=Pipeline(steps=[(&#x27;preprocessor&#x27;,\n",
       "                                        ColumnTransformer(transformers=[(&#x27;numeric&#x27;,\n",
       "                                                                         Pipeline(steps=[(&#x27;imputer&#x27;,\n",
       "                                                                                          SimpleImputer(strategy=&#x27;median&#x27;)),\n",
       "                                                                                         (&#x27;scaler&#x27;,\n",
       "                                                                                          StandardScaler())]),\n",
       "                                                                         [&#x27;audienceScore&#x27;]),\n",
       "                                                                        (&#x27;reviewText&#x27;,\n",
       "                                                                         Pipeline(steps=[(&#x27;text_processor&#x27;,\n",
       "                                                                                          TextProcessor()),\n",
       "                                                                                         (&#x27;tfidf_vectorizer&#x27;,\n",
       "                                                                                          TfidfVectorizer(stop_words=&#x27;english&#x27;))]),\n",
       "                                                                         &#x27;reviewText&#x27;)])),\n",
       "                                       (&#x27;k_percentile&#x27;,\n",
       "                                        SelectPercentile(percentile=25)),\n",
       "                                       (&#x27;logreg&#x27;,\n",
       "                                        LogisticRegression(max_iter=100000))]),\n",
       "             n_jobs=-1,\n",
       "             param_grid={&#x27;logreg__C&#x27;: [1], &#x27;logreg__max_iter&#x27;: [1000],\n",
       "                         &#x27;logreg__penalty&#x27;: [&#x27;l2&#x27;],\n",
       "                         &#x27;logreg__solver&#x27;: [&#x27;liblinear&#x27;]},\n",
       "             scoring=&#x27;accuracy&#x27;, verbose=3)</pre></div></div></div><div class=\"sk-parallel\"><div class=\"sk-parallel-item\"><div class=\"sk-item\"><div class=\"sk-label-container\"><div class=\"sk-label sk-toggleable\"><input class=\"sk-toggleable__control sk-hidden--visually\" id=\"sk-estimator-id-13\" type=\"checkbox\" ><label for=\"sk-estimator-id-13\" class=\"sk-toggleable__label sk-toggleable__label-arrow\">estimator: Pipeline</label><div class=\"sk-toggleable__content\"><pre>Pipeline(steps=[(&#x27;preprocessor&#x27;,\n",
       "                 ColumnTransformer(transformers=[(&#x27;numeric&#x27;,\n",
       "                                                  Pipeline(steps=[(&#x27;imputer&#x27;,\n",
       "                                                                   SimpleImputer(strategy=&#x27;median&#x27;)),\n",
       "                                                                  (&#x27;scaler&#x27;,\n",
       "                                                                   StandardScaler())]),\n",
       "                                                  [&#x27;audienceScore&#x27;]),\n",
       "                                                 (&#x27;reviewText&#x27;,\n",
       "                                                  Pipeline(steps=[(&#x27;text_processor&#x27;,\n",
       "                                                                   TextProcessor()),\n",
       "                                                                  (&#x27;tfidf_vectorizer&#x27;,\n",
       "                                                                   TfidfVectorizer(stop_words=&#x27;english&#x27;))]),\n",
       "                                                  &#x27;reviewText&#x27;)])),\n",
       "                (&#x27;k_percentile&#x27;, SelectPercentile(percentile=25)),\n",
       "                (&#x27;logreg&#x27;, LogisticRegression(max_iter=100000))])</pre></div></div></div><div class=\"sk-serial\"><div class=\"sk-item\"><div class=\"sk-serial\"><div class=\"sk-item sk-dashed-wrapped\"><div class=\"sk-label-container\"><div class=\"sk-label sk-toggleable\"><input class=\"sk-toggleable__control sk-hidden--visually\" id=\"sk-estimator-id-14\" type=\"checkbox\" ><label for=\"sk-estimator-id-14\" class=\"sk-toggleable__label sk-toggleable__label-arrow\">preprocessor: ColumnTransformer</label><div class=\"sk-toggleable__content\"><pre>ColumnTransformer(transformers=[(&#x27;numeric&#x27;,\n",
       "                                 Pipeline(steps=[(&#x27;imputer&#x27;,\n",
       "                                                  SimpleImputer(strategy=&#x27;median&#x27;)),\n",
       "                                                 (&#x27;scaler&#x27;, StandardScaler())]),\n",
       "                                 [&#x27;audienceScore&#x27;]),\n",
       "                                (&#x27;reviewText&#x27;,\n",
       "                                 Pipeline(steps=[(&#x27;text_processor&#x27;,\n",
       "                                                  TextProcessor()),\n",
       "                                                 (&#x27;tfidf_vectorizer&#x27;,\n",
       "                                                  TfidfVectorizer(stop_words=&#x27;english&#x27;))]),\n",
       "                                 &#x27;reviewText&#x27;)])</pre></div></div></div><div class=\"sk-parallel\"><div class=\"sk-parallel-item\"><div class=\"sk-item\"><div class=\"sk-label-container\"><div class=\"sk-label sk-toggleable\"><input class=\"sk-toggleable__control sk-hidden--visually\" id=\"sk-estimator-id-15\" type=\"checkbox\" ><label for=\"sk-estimator-id-15\" class=\"sk-toggleable__label sk-toggleable__label-arrow\">numeric</label><div class=\"sk-toggleable__content\"><pre>[&#x27;audienceScore&#x27;]</pre></div></div></div><div class=\"sk-serial\"><div class=\"sk-item\"><div class=\"sk-serial\"><div class=\"sk-item\"><div class=\"sk-estimator sk-toggleable\"><input class=\"sk-toggleable__control sk-hidden--visually\" id=\"sk-estimator-id-16\" type=\"checkbox\" ><label for=\"sk-estimator-id-16\" class=\"sk-toggleable__label sk-toggleable__label-arrow\">SimpleImputer</label><div class=\"sk-toggleable__content\"><pre>SimpleImputer(strategy=&#x27;median&#x27;)</pre></div></div></div><div class=\"sk-item\"><div class=\"sk-estimator sk-toggleable\"><input class=\"sk-toggleable__control sk-hidden--visually\" id=\"sk-estimator-id-17\" type=\"checkbox\" ><label for=\"sk-estimator-id-17\" class=\"sk-toggleable__label sk-toggleable__label-arrow\">StandardScaler</label><div class=\"sk-toggleable__content\"><pre>StandardScaler()</pre></div></div></div></div></div></div></div></div><div class=\"sk-parallel-item\"><div class=\"sk-item\"><div class=\"sk-label-container\"><div class=\"sk-label sk-toggleable\"><input class=\"sk-toggleable__control sk-hidden--visually\" id=\"sk-estimator-id-18\" type=\"checkbox\" ><label for=\"sk-estimator-id-18\" class=\"sk-toggleable__label sk-toggleable__label-arrow\">reviewText</label><div class=\"sk-toggleable__content\"><pre>reviewText</pre></div></div></div><div class=\"sk-serial\"><div class=\"sk-item\"><div class=\"sk-serial\"><div class=\"sk-item\"><div class=\"sk-estimator sk-toggleable\"><input class=\"sk-toggleable__control sk-hidden--visually\" id=\"sk-estimator-id-19\" type=\"checkbox\" ><label for=\"sk-estimator-id-19\" class=\"sk-toggleable__label sk-toggleable__label-arrow\">TextProcessor</label><div class=\"sk-toggleable__content\"><pre>TextProcessor()</pre></div></div></div><div class=\"sk-item\"><div class=\"sk-estimator sk-toggleable\"><input class=\"sk-toggleable__control sk-hidden--visually\" id=\"sk-estimator-id-20\" type=\"checkbox\" ><label for=\"sk-estimator-id-20\" class=\"sk-toggleable__label sk-toggleable__label-arrow\">TfidfVectorizer</label><div class=\"sk-toggleable__content\"><pre>TfidfVectorizer(stop_words=&#x27;english&#x27;)</pre></div></div></div></div></div></div></div></div></div></div><div class=\"sk-item\"><div class=\"sk-estimator sk-toggleable\"><input class=\"sk-toggleable__control sk-hidden--visually\" id=\"sk-estimator-id-21\" type=\"checkbox\" ><label for=\"sk-estimator-id-21\" class=\"sk-toggleable__label sk-toggleable__label-arrow\">SelectPercentile</label><div class=\"sk-toggleable__content\"><pre>SelectPercentile(percentile=25)</pre></div></div></div><div class=\"sk-item\"><div class=\"sk-estimator sk-toggleable\"><input class=\"sk-toggleable__control sk-hidden--visually\" id=\"sk-estimator-id-22\" type=\"checkbox\" ><label for=\"sk-estimator-id-22\" class=\"sk-toggleable__label sk-toggleable__label-arrow\">LogisticRegression</label><div class=\"sk-toggleable__content\"><pre>LogisticRegression(max_iter=100000)</pre></div></div></div></div></div></div></div></div></div></div></div></div>"
      ],
      "text/plain": [
       "GridSearchCV(cv=5,\n",
       "             estimator=Pipeline(steps=[('preprocessor',\n",
       "                                        ColumnTransformer(transformers=[('numeric',\n",
       "                                                                         Pipeline(steps=[('imputer',\n",
       "                                                                                          SimpleImputer(strategy='median')),\n",
       "                                                                                         ('scaler',\n",
       "                                                                                          StandardScaler())]),\n",
       "                                                                         ['audienceScore']),\n",
       "                                                                        ('reviewText',\n",
       "                                                                         Pipeline(steps=[('text_processor',\n",
       "                                                                                          TextProcessor()),\n",
       "                                                                                         ('tfidf_vectorizer',\n",
       "                                                                                          TfidfVectorizer(stop_words='english'))]),\n",
       "                                                                         'reviewText')])),\n",
       "                                       ('k_percentile',\n",
       "                                        SelectPercentile(percentile=25)),\n",
       "                                       ('logreg',\n",
       "                                        LogisticRegression(max_iter=100000))]),\n",
       "             n_jobs=-1,\n",
       "             param_grid={'logreg__C': [1], 'logreg__max_iter': [1000],\n",
       "                         'logreg__penalty': ['l2'],\n",
       "                         'logreg__solver': ['liblinear']},\n",
       "             scoring='accuracy', verbose=3)"
      ]
     },
     "execution_count": 123,
     "metadata": {},
     "output_type": "execute_result"
    }
   ],
   "source": [
    "# grid_search_lr = GridSearchCV(\n",
    "#     estimator=logreg_pipeline,\n",
    "#     param_grid=param_grid,\n",
    "#     cv=5,\n",
    "#     scoring='accuracy',\n",
    "#     n_jobs=-1,\n",
    "#     verbose = 3\n",
    "# )\n",
    "\n",
    "# # Fit the grid search to the training data\n",
    "# grid_search_lr.fit(X_train, y_train)\n",
    "\n"
   ]
  },
  {
   "cell_type": "code",
   "execution_count": 125,
   "id": "567cacef",
   "metadata": {},
   "outputs": [],
   "source": [
    "import pickle\n",
    "\n",
    "with open('/Users/arshi/Desktop/movie-recommendation-booking-app/movie-sentiment/model_config/logreg_pipeline.pkl', 'wb') as f:\n",
    "    pickle.dump(logreg_pipeline, f)\n",
    "\n"
   ]
  },
  {
   "cell_type": "code",
   "execution_count": 127,
   "id": "111b96f6",
   "metadata": {},
   "outputs": [],
   "source": [
    "with open('/Users/arshi/Desktop/movie-recommendation-booking-app/movie-sentiment/model_config/logreg_pipeline.pkl', 'rb') as f:\n",
    "    loaded_pipeline = pickle.load(f)\n"
   ]
  },
  {
   "cell_type": "code",
   "execution_count": 129,
   "id": "d4b1cd39",
   "metadata": {},
   "outputs": [
    {
     "name": "stdout",
     "output_type": "stream",
     "text": [
      "                                          reviewText  audienceScore\n",
      "0  The movie was fantastic! Loved the acting and ...              9\n",
      "1      An average film with a predictable storyline.              5\n",
      "2  Absolutely horrible experience. The worst movi...              2\n",
      "3  A brilliant film with exceptional performances...             10\n",
      "4        It was okay, but not as good as I expected.              6\n"
     ]
    }
   ],
   "source": [
    "import pandas as pd\n",
    "\n",
    "# Sample data\n",
    "data = {\n",
    "    'reviewText': [\n",
    "        'The movie was fantastic! Loved the acting and the plot.',\n",
    "        'An average film with a predictable storyline.',\n",
    "        'Absolutely horrible experience. The worst movie I have ever seen.',\n",
    "        'A brilliant film with exceptional performances by the cast.',\n",
    "        'It was okay, but not as good as I expected.'\n",
    "    ],\n",
    "    'audienceScore': [9, 5, 2, 10, 6]\n",
    "}\n",
    "\n",
    "# Create the DataFrame\n",
    "df = pd.DataFrame(data)\n",
    "\n",
    "# Display the DataFrame\n",
    "print(df)\n",
    "\n"
   ]
  },
  {
   "cell_type": "code",
   "execution_count": 130,
   "id": "577f6573",
   "metadata": {},
   "outputs": [
    {
     "data": {
      "text/plain": [
       "array([1, 0, 0, 1, 0])"
      ]
     },
     "execution_count": 130,
     "metadata": {},
     "output_type": "execute_result"
    }
   ],
   "source": [
    "loaded_pipeline.predict(df)"
   ]
  },
  {
   "cell_type": "code",
   "execution_count": null,
   "id": "f72f1ab4",
   "metadata": {},
   "outputs": [],
   "source": []
  }
 ],
 "metadata": {
  "kernelspec": {
   "display_name": "Python 3",
   "language": "python",
   "name": "python3"
  },
  "language_info": {
   "codemirror_mode": {
    "name": "ipython",
    "version": 3
   },
   "file_extension": ".py",
   "mimetype": "text/x-python",
   "name": "python",
   "nbconvert_exporter": "python",
   "pygments_lexer": "ipython3",
   "version": "3.11.7"
  },
  "papermill": {
   "default_parameters": {},
   "duration": 639.860762,
   "end_time": "2023-08-13T13:28:15.609937",
   "environment_variables": {},
   "exception": null,
   "input_path": "__notebook__.ipynb",
   "output_path": "__notebook__.ipynb",
   "parameters": {},
   "start_time": "2023-08-13T13:17:35.749175",
   "version": "2.4.0"
  }
 },
 "nbformat": 4,
 "nbformat_minor": 5
}
